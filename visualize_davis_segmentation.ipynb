{
 "cells": [
  {
   "cell_type": "code",
   "execution_count": 1,
   "metadata": {},
   "outputs": [],
   "source": [
    "import imageio\n",
    "import os\n",
    "from os import path"
   ]
  },
  {
   "cell_type": "code",
   "execution_count": 18,
   "metadata": {},
   "outputs": [
    {
     "name": "stdout",
     "output_type": "stream",
     "text": [
      "Writing to ./output/bike-packing/bike-packing.gif\n",
      "Writing to ./output/blackswan/blackswan.gif\n",
      "Writing to ./output/bmx-trees/bmx-trees.gif\n",
      "Writing to ./output/breakdance/breakdance.gif\n",
      "Writing to ./output/camel/camel.gif\n",
      "Writing to ./output/car-roundabout/car-roundabout.gif\n",
      "Writing to ./output/car-shadow/car-shadow.gif\n",
      "Writing to ./output/cows/cows.gif\n",
      "Writing to ./output/dance-twirl/dance-twirl.gif\n",
      "Writing to ./output/dog/dog.gif\n",
      "Writing to ./output/dogs-jump/dogs-jump.gif\n",
      "Writing to ./output/drift-chicane/drift-chicane.gif\n",
      "Writing to ./output/drift-straight/drift-straight.gif\n",
      "Writing to ./output/goat/goat.gif\n",
      "Writing to ./output/gold-fish/gold-fish.gif\n",
      "Writing to ./output/horsejump-high/horsejump-high.gif\n",
      "Writing to ./output/india/india.gif\n",
      "Writing to ./output/judo/judo.gif\n",
      "Writing to ./output/kite-surf/kite-surf.gif\n",
      "Writing to ./output/lab-coat/lab-coat.gif\n",
      "Writing to ./output/libby/libby.gif\n",
      "Writing to ./output/loading/loading.gif\n",
      "Writing to ./output/mbike-trick/mbike-trick.gif\n",
      "Writing to ./output/motocross-jump/motocross-jump.gif\n",
      "Writing to ./output/paragliding-launch/paragliding-launch.gif\n",
      "Writing to ./output/parkour/parkour.gif\n",
      "Writing to ./output/pigs/pigs.gif\n",
      "Writing to ./output/scooter-black/scooter-black.gif\n",
      "Writing to ./output/shooting/shooting.gif\n",
      "Writing to ./output/soapbox/soapbox.gif\n"
     ]
    }
   ],
   "source": [
    "parent_dir = './output/'\n",
    "folders = os.listdir(parent_dir)\n",
    "folders.sort()\n",
    "kargs = { 'duration': 1, 'loop': 0}\n",
    "\n",
    "for folder in folders:\n",
    "    video_filename = path.join(parent_dir, folder, f'{folder}.gif')\n",
    "    print(f'Writing to {video_filename}')\n",
    "    images = []\n",
    "    filenames = os.listdir(path.join(parent_dir, folder))\n",
    "    filenames.sort()\n",
    "\n",
    "    for filename in filenames:\n",
    "        if \"gif\" in filename:\n",
    "            continue\n",
    "        filename = path.join(parent_dir, folder, filename)\n",
    "        images.append(imageio.imread(filename))\n",
    "\n",
    "    imageio.mimsave(video_filename, images)"
   ]
  }
 ],
 "metadata": {
  "kernelspec": {
   "display_name": "Python 3.8.5 64-bit",
   "name": "cv"
  },
  "language_info": {
   "name": "python",
   "version": ""
  },
  "orig_nbformat": 2
 },
 "nbformat": 4,
 "nbformat_minor": 2
}